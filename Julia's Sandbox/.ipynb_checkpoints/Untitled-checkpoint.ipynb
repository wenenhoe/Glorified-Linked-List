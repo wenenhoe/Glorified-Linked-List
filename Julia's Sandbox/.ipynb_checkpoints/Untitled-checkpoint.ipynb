{
 "cells": [
  {
   "cell_type": "code",
   "execution_count": 6,
   "metadata": {},
   "outputs": [],
   "source": [
    "NODE_IP_LIST = [\"127.0.0.1\", \"127.0.0.2\", \"127.0.0.3\"]\n",
    "NODE_NAME_LIST = [\"Host 1\", \"Host 2\", \"Host 3\"]\n",
    "\n",
    "def init_node(ip, name):\n",
    "    \n",
    "    '''\n",
    "    node contains:\n",
    "        name\n",
    "        details: \n",
    "            ip\n",
    "            isonline: True if node is online and False otherwise\n",
    "    '''\n",
    "    \n",
    "    details = {}\n",
    "    details['ip'] = ip\n",
    "    details['isonline'] = False\n",
    "    \n",
    "    node = {}\n",
    "    node['name'] = name    \n",
    "    node['details'] = details\n",
    "    return node\n",
    "\n",
    "NODES = [init_node(ip, name) for ip,name in zip(NODE_IP_LIST, NODE_NAME_LIST)]"
   ]
  },
  {
   "cell_type": "code",
   "execution_count": 8,
   "metadata": {},
   "outputs": [],
   "source": [
    "import json"
   ]
  },
  {
   "cell_type": "code",
   "execution_count": null,
   "metadata": {},
   "outputs": [],
   "source": []
  }
 ],
 "metadata": {
  "kernelspec": {
   "display_name": "Python 3",
   "language": "python",
   "name": "python3"
  },
  "language_info": {
   "codemirror_mode": {
    "name": "ipython",
    "version": 3
   },
   "file_extension": ".py",
   "mimetype": "text/x-python",
   "name": "python",
   "nbconvert_exporter": "python",
   "pygments_lexer": "ipython3",
   "version": "3.8.1"
  }
 },
 "nbformat": 4,
 "nbformat_minor": 4
}
