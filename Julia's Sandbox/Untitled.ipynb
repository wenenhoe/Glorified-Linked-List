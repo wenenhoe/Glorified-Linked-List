{
 "cells": [
  {
   "cell_type": "code",
   "execution_count": 6,
   "metadata": {},
   "outputs": [],
   "source": [
    "NODE_IP_LIST = [\"127.0.0.1\", \"127.0.0.2\", \"127.0.0.3\"]\n",
    "NODE_NAME_LIST = [\"Host 1\", \"Host 2\", \"Host 3\"]\n",
    "\n",
    "def init_node(ip, name):\n",
    "    \n",
    "    '''\n",
    "    node contains:\n",
    "        name\n",
    "        details: \n",
    "            ip\n",
    "            isonline: True if node is online and False otherwise\n",
    "    '''\n",
    "    \n",
    "    details = {}\n",
    "    details['ip'] = ip\n",
    "    details['isonline'] = False\n",
    "    \n",
    "    node = {}\n",
    "    node['name'] = name    \n",
    "    node['details'] = details\n",
    "    return node\n",
    "\n",
    "NODES = [init_node(ip, name) for ip,name in zip(NODE_IP_LIST, NODE_NAME_LIST)]"
   ]
  },
  {
   "cell_type": "code",
   "execution_count": 8,
   "metadata": {},
   "outputs": [],
   "source": [
    "import json"
   ]
  },
  {
   "cell_type": "code",
   "execution_count": 11,
   "metadata": {},
   "outputs": [
    {
     "data": {
      "text/plain": [
       "[{'name': 'Host 1', 'details': {'ip': '127.0.0.1', 'isonline': False}},\n",
       " {'name': 'Host 2', 'details': {'ip': '127.0.0.2', 'isonline': False}},\n",
       " {'name': 'Host 3', 'details': {'ip': '127.0.0.3', 'isonline': False}}]"
      ]
     },
     "execution_count": 11,
     "metadata": {},
     "output_type": "execute_result"
    }
   ],
   "source": [
    "json.loads(json.dumps(NODES))"
   ]
  },
  {
   "cell_type": "code",
   "execution_count": 14,
   "metadata": {},
   "outputs": [
    {
     "name": "stdout",
     "output_type": "stream",
     "text": [
      "{'a': 2}\n"
     ]
    }
   ],
   "source": [
    "a = {'a':1}\n",
    "\n",
    "def b(): a['a'] = 2\n",
    "    \n",
    "b()\n",
    "print(a)"
   ]
  },
  {
   "cell_type": "code",
   "execution_count": 15,
   "metadata": {},
   "outputs": [],
   "source": [
    "import socket"
   ]
  },
  {
   "cell_type": "code",
   "execution_count": 17,
   "metadata": {},
   "outputs": [],
   "source": [
    "sock = socket.socket(socket.AF_INET, socket.SOCK_STREAM)\n",
    "sock.bind(('127.0.0.1', 4040))\n",
    "sock.listen()"
   ]
  },
  {
   "cell_type": "code",
   "execution_count": 18,
   "metadata": {},
   "outputs": [
    {
     "name": "stdout",
     "output_type": "stream",
     "text": [
      "Help on built-in function listen:\n",
      "\n",
      "listen(...) method of socket.socket instance\n",
      "    listen([backlog])\n",
      "    \n",
      "    Enable a server to accept connections.  If backlog is specified, it must be\n",
      "    at least 0 (if it is lower, it is set to 0); it specifies the number of\n",
      "    unaccepted connections that the system will allow before refusing new\n",
      "    connections. If not specified, a default reasonable value is chosen.\n",
      "\n"
     ]
    }
   ],
   "source": [
    "help(sock.listen)"
   ]
  },
  {
   "cell_type": "code",
   "execution_count": 5,
   "metadata": {},
   "outputs": [],
   "source": [
    "import queue"
   ]
  },
  {
   "cell_type": "code",
   "execution_count": 6,
   "metadata": {},
   "outputs": [],
   "source": [
    "q = queue.Queue()"
   ]
  },
  {
   "cell_type": "code",
   "execution_count": 7,
   "metadata": {},
   "outputs": [
    {
     "data": {
      "text/plain": [
       "True"
      ]
     },
     "execution_count": 7,
     "metadata": {},
     "output_type": "execute_result"
    }
   ],
   "source": [
    "q.empty()"
   ]
  },
  {
   "cell_type": "code",
   "execution_count": 8,
   "metadata": {},
   "outputs": [],
   "source": [
    "q.put({'yeet':1})"
   ]
  },
  {
   "cell_type": "code",
   "execution_count": 12,
   "metadata": {},
   "outputs": [
    {
     "data": {
      "text/plain": [
       "{'yeet': 2}"
      ]
     },
     "execution_count": 12,
     "metadata": {},
     "output_type": "execute_result"
    }
   ],
   "source": [
    "q.get()"
   ]
  },
  {
   "cell_type": "code",
   "execution_count": 11,
   "metadata": {},
   "outputs": [],
   "source": [
    "list(q.queue)[0]['yeet'] = 2"
   ]
  },
  {
   "cell_type": "code",
   "execution_count": 13,
   "metadata": {},
   "outputs": [
    {
     "data": {
      "text/plain": [
       "2"
      ]
     },
     "execution_count": 13,
     "metadata": {},
     "output_type": "execute_result"
    }
   ],
   "source": [
    "True+True"
   ]
  },
  {
   "cell_type": "code",
   "execution_count": null,
   "metadata": {},
   "outputs": [],
   "source": []
  }
 ],
 "metadata": {
  "kernelspec": {
   "display_name": "Python 3",
   "language": "python",
   "name": "python3"
  },
  "language_info": {
   "codemirror_mode": {
    "name": "ipython",
    "version": 3
   },
   "file_extension": ".py",
   "mimetype": "text/x-python",
   "name": "python",
   "nbconvert_exporter": "python",
   "pygments_lexer": "ipython3",
   "version": "3.8.1"
  }
 },
 "nbformat": 4,
 "nbformat_minor": 4
}
